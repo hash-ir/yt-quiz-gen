{
 "cells": [
  {
   "cell_type": "code",
   "execution_count": 5,
   "metadata": {},
   "outputs": [],
   "source": [
    "import sys\n",
    "from pathlib import Path\n",
    "import os\n",
    "import json\n",
    "from typing import List\n",
    "sys.path.append(str(Path(os.getcwd()).parent))\n",
    "\n",
    "import gradio as gr\n",
    "from llama_index.llms.nvidia import NVIDIA\n",
    "from llama_index.llms.huggingface import HuggingFaceLLM\n",
    "from llama_index.llms.groq import Groq\n",
    "from pydantic import BaseModel, parse_obj_as\n",
    "from dotenv import load_dotenv\n",
    "\n",
    "from data.transcript import get_video_transcript"
   ]
  },
  {
   "cell_type": "code",
   "execution_count": 6,
   "metadata": {},
   "outputs": [],
   "source": [
    "load_dotenv(override=True)\n",
    "GROQ_API_KEY = os.getenv(\"GROQ_API_KEY\")\n",
    "# GROQ_API_KEY = os.environ[\"GROQ_API_KEY\"]\n",
    "llm = Groq(model=\"llama-3.1-8b-instant\", api_key=GROQ_API_KEY)"
   ]
  },
  {
   "cell_type": "code",
   "execution_count": 14,
   "metadata": {},
   "outputs": [],
   "source": [
    "topics_dict = {}\n",
    "dropdown_options = []\n"
   ]
  },
  {
   "cell_type": "code",
   "execution_count": 9,
   "metadata": {},
   "outputs": [],
   "source": [
    "transcript = get_video_transcript(url=\"https://www.youtube.com/watch?v=oz9cEqFynHU\", return_str=True)"
   ]
  },
  {
   "cell_type": "code",
   "execution_count": 12,
   "metadata": {},
   "outputs": [],
   "source": [
    "topic_extractor_prompt = f\"\"\"\n",
    "    Given the transcript of a YouTube video tutorial:\n",
    "\n",
    "    {transcript[:-100000]}\n",
    "\n",
    "    Understand what this video is about and identify the main topics.\n",
    "    Include as much description as possible for each topic.\n",
    "    Make sure topics are not ambiguous and have meaningful segregation of content.\n",
    "\n",
    "    Format your response as a JSON array of objects, where each object has two fields:\n",
    "    - \"name\": The name of the topic (a short, concise title)\n",
    "    - \"description\": A detailed description of the topic\n",
    "\n",
    "    Example format:\n",
    "    [\n",
    "    {{\n",
    "        \"name\": \"Topic 1\",\n",
    "        \"description\": \"Detailed description of Topic 1...\"\n",
    "    }},\n",
    "    {{\n",
    "        \"name\": \"Topic 2\",\n",
    "        \"description\": \"Detailed description of Topic 2...\"\n",
    "    }}\n",
    "    ]\n",
    "\n",
    "    Remove the preamble and ensure your output is valid JSON. \n",
    "    \"\"\""
   ]
  },
  {
   "cell_type": "code",
   "execution_count": 15,
   "metadata": {},
   "outputs": [
    {
     "name": "stdout",
     "output_type": "stream",
     "text": [
      "Error: The LLM output was not valid JSON.\n"
     ]
    },
    {
     "data": {
      "text/plain": [
       "{}"
      ]
     },
     "execution_count": 15,
     "metadata": {},
     "output_type": "execute_result"
    }
   ],
   "source": [
    "response = llm.complete(topic_extractor_prompt)\n",
    "\n",
    "global topics_dict\n",
    "try:\n",
    "    json_response = json.loads(response.text)\n",
    "    print(json_response)\n",
    "    topics_list = parse_obj_as(List[Topic], json_response)\n",
    "    topics_dict = {topic.name: topic.description for topic in topics_list}\n",
    "    print(f\"Extracted {len(topics_dict)} topics from the video transcript.\")\n",
    "    print(topics_dict)\n",
    "except json.JSONDecodeError:\n",
    "    print(\"Error: The LLM output was not valid JSON.\")\n",
    "except ValueError:\n",
    "    print(\"Error: The LLM output did not match the expected format.\")\n",
    "\n",
    "topics_dict"
   ]
  },
  {
   "cell_type": "code",
   "execution_count": 29,
   "metadata": {},
   "outputs": [
    {
     "data": {
      "text/plain": [
       "'```json\\n[\\n  {\\n    \"name\": \"Introduction to the Project\",\\n    \"description\": \"The host introduces the project, a web development tutorial, and explains the purpose of the video. They discuss the target audience, the tools and technologies used, and the expected outcome of the tutorial.\"\\n  },\\n  {\\n    \"name\": \"Setting Up the Development Environment\",\\n    \"description\": \"The host explains how to set up a development environment for the project, including installing necessary software, configuring the code editor, and setting up a version control system. They also discuss the importance of using a code editor with features like code completion and debugging tools.\"\\n  },\\n  {\\n    \"name\": \"Understanding HTML and CSS Basics\",\\n    \"description\": \"The host provides an overview of HTML and CSS, explaining the basics of these technologies, including HTML tags, CSS selectors, and CSS properties. They also discuss the importance of understanding the box model and how to use CSS to style web pages.\"\\n  },\\n  {\\n    \"name\": \"Building a Responsive Layout with CSS Grid\",\\n    \"description\": \"The host demonstrates how to build a responsive layout using CSS Grid, including creating a grid container, defining grid columns and rows, and using grid items to create a responsive layout. They also discuss the benefits of using CSS Grid and how it can be used to create complex layouts.\"\\n  },\\n  {\\n    \"name\": \"Adding Interactivity with JavaScript\",\\n    \"description\": \"The host introduces JavaScript and explains how to add interactivity to the web page using JavaScript, including creating event listeners, manipulating the DOM, and using JavaScript libraries like jQuery. They also discuss the importance of understanding JavaScript and how it can be used to create dynamic web pages.\"\\n  },\\n  {\\n    \"name\": \"Working with APIs and Fetching Data\",\\n    \"description\": \"The host explains how to work with APIs and fetch data from external sources, including making HTTP requests, parsing JSON data, and using APIs to retrieve data. They also discuss the importance of understanding APIs and how they can be used to create dynamic web pages.\"\\n  },\\n  {\\n    \"name\": \"Deploying the Project to a Production Environment\",\\n    \"description\": \"The host explains how to deploy the project to a production environment, including setting up a hosting platform, configuring the server, and deploying the code. They also discuss the importance of testing and debugging the code before deploying it to production.\"\\n  },\\n  {\\n    \"name\": \"Conclusion and Next Steps\",\\n    \"description\": \"The host summarizes the key takeaways from the tutorial and provides next steps for the viewer, including resources for further learning and tips for improving their web development skills.\"\\n  }\\n]\\n```'"
      ]
     },
     "execution_count": 29,
     "metadata": {},
     "output_type": "execute_result"
    }
   ],
   "source": [
    "x = response.text\n",
    "x"
   ]
  },
  {
   "cell_type": "code",
   "execution_count": 28,
   "metadata": {},
   "outputs": [
    {
     "name": "stdout",
     "output_type": "stream",
     "text": [
      "[{'name': 'Introduction to the Project', 'description': 'The host introduces the project, a web development tutorial, and explains the purpose of the video. They discuss the target audience, the tools and technologies used, and the expected outcome of the tutorial.'}, {'name': 'Setting Up the Development Environment', 'description': 'The host explains how to set up a development environment for the project, including installing necessary software, configuring the code editor, and setting up a version control system. They also discuss the importance of using a code editor with features like code completion and debugging tools.'}, {'name': 'Understanding HTML and CSS Basics', 'description': 'The host provides an overview of HTML and CSS, explaining the basics of these technologies, including HTML tags, CSS selectors, and CSS properties. They also discuss the importance of understanding the box model and how to use CSS to style web pages.'}, {'name': 'Building a Responsive Layout with CSS Grid', 'description': 'The host demonstrates how to build a responsive layout using CSS Grid, including creating a grid container, defining grid columns and rows, and using grid items to create a responsive layout. They also discuss the benefits of using CSS Grid and how it can be used to create complex layouts.'}, {'name': 'Adding Interactivity with JavaScript', 'description': 'The host introduces JavaScript and explains how to add interactivity to the web page using JavaScript, including creating event listeners, manipulating the DOM, and using JavaScript libraries like jQuery. They also discuss the importance of understanding JavaScript and how it can be used to create dynamic web pages.'}, {'name': 'Working with APIs and Fetching Data', 'description': 'The host explains how to work with APIs and fetch data from external sources, including making HTTP requests, parsing JSON data, and using APIs to retrieve data. They also discuss the importance of understanding APIs and how they can be used to create dynamic web pages.'}, {'name': 'Deploying the Project to a Production Environment', 'description': 'The host explains how to deploy the project to a production environment, including setting up a hosting platform, configuring the server, and deploying the code. They also discuss the importance of testing and debugging the code before deploying it to production.'}, {'name': 'Conclusion and Next Steps', 'description': 'The host summarizes the key takeaways from the tutorial and provides next steps for the viewer, including resources for further learning and tips for improving their web development skills.'}]\n"
     ]
    }
   ],
   "source": [
    "print(json.loads(x.split('json')[1][:-3]))\n"
   ]
  },
  {
   "cell_type": "code",
   "execution_count": null,
   "metadata": {},
   "outputs": [],
   "source": []
  }
 ],
 "metadata": {
  "kernelspec": {
   "display_name": "ytquiz",
   "language": "python",
   "name": "python3"
  },
  "language_info": {
   "codemirror_mode": {
    "name": "ipython",
    "version": 3
   },
   "file_extension": ".py",
   "mimetype": "text/x-python",
   "name": "python",
   "nbconvert_exporter": "python",
   "pygments_lexer": "ipython3",
   "version": "3.12.5"
  },
  "orig_nbformat": 4,
  "vscode": {
   "interpreter": {
    "hash": "e0e06e4b68c29064ab31897689d3e4482a6449a552334c87c544da111cb0e192"
   }
  }
 },
 "nbformat": 4,
 "nbformat_minor": 2
}
